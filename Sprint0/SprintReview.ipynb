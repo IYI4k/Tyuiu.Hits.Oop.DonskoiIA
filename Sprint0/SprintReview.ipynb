{
 "cells": [
  {
   "cell_type": "code",
   "execution_count": 7,
   "id": "f870c997",
   "metadata": {},
   "outputs": [
    {
     "name": "stdout",
     "output_type": "stream",
     "text": [
      "Цветок цветёт\n",
      "Цветок увядает\n",
      "Дерево цветёт\n",
      "Дерево стареет\n",
      "Растение цветёт\n"
     ]
    }
   ],
   "source": [
    "class Plant\n",
    "{\n",
    "    public string Name;\n",
    "    public string Type;\n",
    "    public float Heigh = 1;\n",
    "\n",
    "    public virtual void Bloom()\n",
    "    {\n",
    "        Console.WriteLine(\"Растение цветёт\");\n",
    "    }\n",
    "\n",
    "    public virtual void Groove(float heigh)\n",
    "    {\n",
    "        Heigh += heigh;\n",
    "        Console.WriteLine(\"Растение растёт\");\n",
    "    }\n",
    "}\n",
    "\n",
    "class Flower : Plant\n",
    "{\n",
    "    public string Color;\n",
    "    public int PetalCount;\n",
    "\n",
    "    public override void Bloom()\n",
    "    {\n",
    "        Console.WriteLine(\"Цветок цветёт\");\n",
    "    }\n",
    "\n",
    "    public void Fade()\n",
    "    {\n",
    "        Console.WriteLine(\"Цветок увядает\");\n",
    "    }\n",
    "}\n",
    "\n",
    "class Tree : Plant\n",
    "{\n",
    "    public int Age = 0;\n",
    "    string PetalType;\n",
    "\n",
    "    public override void Bloom()\n",
    "    {\n",
    "        Console.WriteLine(\"Дерево цветёт\");\n",
    "    }\n",
    "\n",
    "    public void Grow(int age)\n",
    "    {\n",
    "        Age += age;\n",
    "        Console.WriteLine(\"Дерево стареет\");\n",
    "    }\n",
    "}\n",
    "\n",
    "Flower flower = new Flower();\n",
    "flower.Bloom();\n",
    "flower.Fade();\n",
    "\n",
    "Tree tree = new Tree();\n",
    "tree.Bloom();\n",
    "tree.Grow(4);\n",
    "\n",
    "Plant plant = new Plant();\n",
    "plant.Bloom();\n"
   ]
  }
 ],
 "metadata": {
  "kernelspec": {
   "display_name": ".NET (C#)",
   "language": "C#",
   "name": ".net-csharp"
  },
  "language_info": {
   "name": "polyglot-notebook"
  },
  "polyglot_notebook": {
   "kernelInfo": {
    "defaultKernelName": "csharp",
    "items": [
     {
      "aliases": [],
      "name": "csharp"
     }
    ]
   }
  }
 },
 "nbformat": 4,
 "nbformat_minor": 5
}
