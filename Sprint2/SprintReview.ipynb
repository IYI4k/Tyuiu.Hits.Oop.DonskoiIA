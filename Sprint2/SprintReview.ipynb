{
 "cells": [
  {
   "cell_type": "code",
   "execution_count": 3,
   "id": "c6fa864f",
   "metadata": {},
   "outputs": [
    {
     "name": "stdout",
     "output_type": "stream",
     "text": [
      "Name=Никита;Position=Программист;Salary=1234.5;\n",
      "Name=Александр;Position=Менеджер;Salary=4000;Department=Департамент возможностей;\n",
      "Name=Владимир;Position=Менеджер по проектам;Salary=6000;Department=Департамент возможностей;ProjectName=Менеджер веб страниц;\n",
      "Никита\n"
     ]
    }
   ],
   "source": [
    "class Employee\n",
    "{\n",
    "    public string Name { get; set; }\n",
    "    public string Position { get; set; }\n",
    "    public double Salary { get; set; }\n",
    "\n",
    "    public virtual string GetInfoString()\n",
    "    {\n",
    "        return $\"Name={Name};Position={Position};Salary={Salary};\";\n",
    "    }\n",
    "\n",
    "    public virtual void PrintInfo()\n",
    "    {\n",
    "        Console.WriteLine(GetInfoString());\n",
    "    }\n",
    "}\n",
    "\n",
    "class Manager : Employee\n",
    "{\n",
    "    public string Department { get; set; }\n",
    "\n",
    "    public override string GetInfoString()\n",
    "    {\n",
    "        return $\"{base.GetInfoString()}Department={Department};\";\n",
    "    }\n",
    "\n",
    "    public override void PrintInfo()\n",
    "    {\n",
    "        Console.WriteLine(GetInfoString());\n",
    "    }\n",
    "}\n",
    "\n",
    "class ProjectManager : Manager, IReportable, ITeamLeader\n",
    "{\n",
    "    public string ProjectName { get; set; }\n",
    "    public HashSet<Employee> Employees = new HashSet<Employee>();\n",
    "\n",
    "    public override string GetInfoString()\n",
    "    {\n",
    "        return $\"{base.GetInfoString()}ProjectName={ProjectName};\";\n",
    "    }\n",
    "\n",
    "    public override void PrintInfo()\n",
    "    {\n",
    "        Console.WriteLine(GetInfoString());\n",
    "    }\n",
    "\n",
    "    public string GenerateReport()\n",
    "    {\n",
    "        return $\"Отчёт по проекту {ProjectName}\";\n",
    "    }\n",
    "\n",
    "    public HashSet<string> GetTeamMembers()\n",
    "    {\n",
    "        HashSet<string> EmployeeNames = new HashSet<string>();\n",
    "\n",
    "        foreach (Employee employee in Employees)\n",
    "        {\n",
    "            EmployeeNames.Add(employee.Name);\n",
    "        }\n",
    "\n",
    "        return EmployeeNames;\n",
    "    }\n",
    "}\n",
    "\n",
    "interface IReportable\n",
    "{\n",
    "    public string GenerateReport();\n",
    "}\n",
    "\n",
    "interface ITeamLeader\n",
    "{\n",
    "    public HashSet<string> GetTeamMembers();\n",
    "}\n",
    "\n",
    "Employee employee = new Employee();\n",
    "employee.Name = \"Никита\";\n",
    "employee.Position = \"Программист\";\n",
    "employee.Salary = 1234.5;\n",
    "employee.PrintInfo();\n",
    "\n",
    "Manager manager = new Manager();\n",
    "manager.Name = \"Александр\";\n",
    "manager.Position = \"Менеджер\";\n",
    "manager.Salary = 4000;\n",
    "manager.Department = \"Департамент возможностей\";\n",
    "manager.PrintInfo();\n",
    "\n",
    "ProjectManager projectManager = new ProjectManager();\n",
    "projectManager.Name = \"Владимир\";\n",
    "projectManager.Position = \"Менеджер по проектам\";\n",
    "projectManager.Salary = 6000;\n",
    "projectManager.Department = \"Департамент возможностей\";\n",
    "projectManager.ProjectName = \"Менеджер веб страниц\";\n",
    "projectManager.PrintInfo();\n",
    "projectManager.Employees.Add(employee);\n",
    "projectManager.GenerateReport();\n",
    "foreach (string employeeName in projectManager.GetTeamMembers())\n",
    "{\n",
    "    Console.WriteLine(employeeName);\n",
    "}\n"
   ]
  }
 ],
 "metadata": {
  "kernelspec": {
   "display_name": ".NET (C#)",
   "language": "C#",
   "name": ".net-csharp"
  },
  "language_info": {
   "name": "polyglot-notebook"
  },
  "polyglot_notebook": {
   "kernelInfo": {
    "defaultKernelName": "csharp",
    "items": [
     {
      "aliases": [],
      "name": "csharp"
     }
    ]
   }
  }
 },
 "nbformat": 4,
 "nbformat_minor": 5
}
